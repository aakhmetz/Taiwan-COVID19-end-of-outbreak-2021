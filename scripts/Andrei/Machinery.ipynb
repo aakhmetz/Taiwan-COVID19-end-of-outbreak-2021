{
 "cells": [
  {
   "cell_type": "code",
   "execution_count": 1,
   "metadata": {},
   "outputs": [
    {
     "name": "stdout",
     "output_type": "stream",
     "text": [
      "2019年 10月  9日 水曜日 23:36:11 JST\n"
     ]
    }
   ],
   "source": [
    "!date"
   ]
  },
  {
   "cell_type": "code",
   "execution_count": 2,
   "metadata": {},
   "outputs": [
    {
     "name": "stdout",
     "output_type": "stream",
     "text": [
      "Running with pystan version v.2.19.1.1\n",
      "3.8.8 | packaged by conda-forge | (default, Feb 20 2021, 16:22:27) \n",
      "[GCC 9.3.0]\n"
     ]
    }
   ],
   "source": [
    "import pandas as pd\n",
    "import numpy as np\n",
    "import scipy.stats as ss\n",
    "import scipy.special as ssp\n",
    "\n",
    "%matplotlib inline\n",
    "# Make inline plots raster graphics\n",
    "from IPython.display import set_matplotlib_formats\n",
    "import matplotlib\n",
    "from matplotlib import cm\n",
    "import matplotlib.pyplot as plt\n",
    "\n",
    "# Parameters for seaborn plots\n",
    "import seaborn as sns\n",
    "clrs = sns.color_palette(\"Spectral\", 6)\n",
    "def set_plot_style(usetex=False):\n",
    "    sns.set_style('white', {'axes.linewidth': 0.5})\n",
    "    sns.set(style='white',# font_scale=1.1,#context='paper',\n",
    "            rc={'xtick.major.size': 6, 'ytick.major.size': 6, 'legend.fontsize': 14,\n",
    "                'text.usetex': usetex, 'font.family': 'serif', 'font.serif': ['Verdana'],\n",
    "                'text.latex.preamble': r\"\\usepackage{type1cm}\"}) \n",
    "    plt.rcParams['xtick.major.size'] = 6\n",
    "    plt.rcParams['xtick.major.width'] = 1\n",
    "    plt.rcParams['ytick.major.size'] = 6\n",
    "    plt.rcParams['ytick.major.width'] = 1\n",
    "    plt.rcParams['xtick.bottom'] = True\n",
    "    plt.rcParams['ytick.left'] = True\n",
    "\n",
    "import pystan\n",
    "print('Running with pystan version v.{}'.format(pystan.__version__))\n",
    "\n",
    "import time\n",
    "import networkx as nx\n",
    "\n",
    "%config InlineBackend.figure_format = 'retina'\n",
    "\n",
    "import subprocess                 # For issuing commands to the OS.\n",
    "import os\n",
    "import sys\n",
    "print(sys.version)"
   ]
  },
  {
   "cell_type": "code",
   "execution_count": null,
   "metadata": {},
   "outputs": [],
   "source": [
    "import pystan\n",
    "import arviz as az\n",
    "\n",
    "func_dict = {\"q2.5\": lambda x: np.percentile(x, 2.5), \n",
    "             \"q25\": lambda x: np.percentile(x, 25), \n",
    "             \"median\": lambda x: np.percentile(x, 50), \n",
    "             \"q75\": lambda x: np.percentile(x, 75), \n",
    "             \"q97.5\": lambda x: np.percentile(x, 97.5)}\n",
    "\n",
    "def get_stats(cmdstan_data, varnames):\n",
    "    # include mean and hdi\n",
    "    stats = az.summary(cmdstan_data, var_names=varnames, hdi_prob=0.95).loc[:, ['mean','hdi_2.5%','hdi_97.5%','ess_bulk','ess_tail','r_hat']].reset_index().rename(columns={'index':'var', 'hdi_2.5%':'hdi2.5', 'hdi_97.5%':'hdi97.5'})\n",
    "    stats = az.summary(cmdstan_data, var_names=varnames, hdi_prob=0.50).loc[:, ['hdi_25%','hdi_75%']].reset_index().rename(columns={'index':'var', 'hdi_25%':'hdi25', 'hdi_75%':'hdi75'}).\\\n",
    "        merge(stats, left_on='var', right_on='var')\n",
    "    # include percentiles\n",
    "    stats = az.summary(cmdstan_data, var_names=varnames, stat_funcs=func_dict, extend=False).reset_index().rename(columns={'index': 'var'}).merge(stats, left_on='var', right_on='var')\n",
    "    stats['time'] = stats['var'].apply(lambda st: st[st.find(\"[\")+1:st.find(\"]\")])\n",
    "    statbs['time'] = ['NA' if \"[\" not in y else int(x)+1 for x,y in zip(stats['time'],stats['var'])]\n",
    "    stats['var'] = stats['var'].apply(lambda st: st[:st.find(\"[\")] if \"[\" in st else st)\n",
    "    return stats.loc[:,['var','time','mean','hdi2.5','hdi25','hdi75','hdi97.5','q2.5','q25','median','q75','q97.5','ess_bulk','ess_tail','r_hat']]\n",
    "\n",
    "def get_stats_2d(cmdstan_data, varnames):\n",
    "    # include mean and hpd\n",
    "    stats = az.summary(cmdstan_data, var_names=varnames, hdi_prob=0.95).loc[:, ['mean','hdi_2.5%','hdi_97.5%','ess_bulk','ess_tail','r_hat']].reset_index().rename(columns={'index':'var', 'hdi_2.5%':'hdi2.5', 'hdi_97.5%':'hdi97.5'})\n",
    "    stats = az.summary(cmdstan_data, var_names=varnames, hdi_prob=0.50).loc[:, ['hdi_25%','hdi_75%']].reset_index().rename(columns={'index':'var', 'hdi_25%':'hdi25', 'hdi_75%':'hdi75'}).\\\n",
    "        merge(stats, left_on='var', right_on='var')\n",
    "    # include percentiles\n",
    "    stats = az.summary(cmdstan_data, var_names=varnames, stat_funcs=func_dict, extend=False).reset_index().rename(columns={'index': 'var'}).merge(stats, left_on='var', right_on='var')\n",
    "    stats['time'] = stats['var'].apply(lambda st: st[st.find(\"[\")+1:st.find(\"]\")])\n",
    "    stats['time'] = ['NA' if \"[\" not in y else x for x,y in zip(stats['time'],stats['var'])]\n",
    "    stats['var'] = stats['var'].apply(lambda st: st[:st.find(\"[\")] if \"[\" in st else st)\n",
    "    return stats.loc[:,['var','time','mean','hdi2.5','hdi25','hdi75','hdi97.5','q2.5','q25',\n",
    "                        'median','q75','q97.5','ess_bulk','ess_tail','r_hat']]"
   ]
  },
  {
   "cell_type": "code",
   "execution_count": null,
   "metadata": {},
   "outputs": [],
   "source": [
    "%load_ext watermark\n",
    "%watermark -i -v -m -p pandas,pystan,arviz"
   ]
  }
 ],
 "metadata": {
  "kernelspec": {
   "display_name": "Python 3",
   "language": "python",
   "name": "python3"
  },
  "language_info": {
   "codemirror_mode": {
    "name": "ipython",
    "version": 3
   },
   "file_extension": ".py",
   "mimetype": "text/x-python",
   "name": "python",
   "nbconvert_exporter": "python",
   "pygments_lexer": "ipython3",
   "version": "3.8.8"
  }
 },
 "nbformat": 4,
 "nbformat_minor": 4
}
